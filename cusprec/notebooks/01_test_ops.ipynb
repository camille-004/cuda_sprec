{
 "cells": [
  {
   "cell_type": "code",
   "execution_count": 155,
   "metadata": {
    "collapsed": true,
    "ExecuteTime": {
     "end_time": "2023-07-01T05:54:41.242643144Z",
     "start_time": "2023-07-01T05:54:41.239306476Z"
    }
   },
   "outputs": [],
   "source": [
    "import numpy as np\n",
    "import pycuda.autoinit\n",
    "import pycuda.driver as cuda\n",
    "from pycuda.compiler import SourceModule\n",
    "\n",
    "from cusprec.constants import KERNEL_PATH, BLOCK_SIZE"
   ]
  },
  {
   "cell_type": "code",
   "execution_count": 164,
   "outputs": [
    {
     "data": {
      "text/plain": "True"
     },
     "execution_count": 164,
     "metadata": {},
     "output_type": "execute_result"
    }
   ],
   "source": [
    "with open(KERNEL_PATH / \"algorithms\" / \"ops.cu\") as kernel_file:\n",
    "    kernel = kernel_file.read()\n",
    "\n",
    "N = 256\n",
    "\n",
    "mod = SourceModule(kernel)\n",
    "dot_product = mod.get_function(\"dot\")\n",
    "\n",
    "a = np.random.randint(0, 1000, N).astype(np.int32)\n",
    "b = np.random.randint(0, 1000, N).astype(np.int32)\n",
    "c = np.empty(1, dtype=np.int32)\n",
    "\n",
    "dev_a = cuda.mem_alloc(a.nbytes)\n",
    "dev_b = cuda.mem_alloc(b.nbytes)\n",
    "dev_c = cuda.mem_alloc(c.nbytes)\n",
    "\n",
    "cuda.memcpy_htod(dev_a, a)\n",
    "cuda.memcpy_htod(dev_b, b)\n",
    "\n",
    "grid = (N + BLOCK_SIZE[0] - 1) // BLOCK_SIZE[0]\n",
    "dot_product(dev_a, dev_b, dev_c, block=BLOCK_SIZE, grid=(grid, 1))\n",
    "cuda.memcpy_dtoh(c, dev_c)\n",
    "(c == np.dot(a, b))[0]"
   ],
   "metadata": {
    "collapsed": false,
    "ExecuteTime": {
     "end_time": "2023-07-01T05:59:15.539490784Z",
     "start_time": "2023-07-01T05:59:15.498646376Z"
    }
   }
  },
  {
   "cell_type": "code",
   "execution_count": 165,
   "outputs": [
    {
     "data": {
      "text/plain": "True"
     },
     "execution_count": 165,
     "metadata": {},
     "output_type": "execute_result"
    }
   ],
   "source": [
    "add = mod.get_function(\"add\")\n",
    "\n",
    "a = np.random.randint(0, 1000, N).astype(np.int32)\n",
    "b = np.random.randint(0, 1000, N).astype(np.int32)\n",
    "c = np.empty(N, dtype=np.int32)\n",
    "\n",
    "dev_a = cuda.mem_alloc(a.nbytes)\n",
    "dev_b = cuda.mem_alloc(b.nbytes)\n",
    "dev_c = cuda.mem_alloc(c.nbytes)\n",
    "\n",
    "cuda.memcpy_htod(dev_a, a)\n",
    "cuda.memcpy_htod(dev_b, b)\n",
    "\n",
    "grid = (N + BLOCK_SIZE[0] - 1) // BLOCK_SIZE[0]\n",
    "add(dev_a, dev_b, dev_c, block=BLOCK_SIZE, grid=(grid, 1))\n",
    "cuda.memcpy_dtoh(c, dev_c)\n",
    "(c == np.add(a, b)).all()"
   ],
   "metadata": {
    "collapsed": false,
    "ExecuteTime": {
     "end_time": "2023-07-01T05:59:17.864640529Z",
     "start_time": "2023-07-01T05:59:17.855455592Z"
    }
   }
  },
  {
   "cell_type": "code",
   "execution_count": 166,
   "outputs": [
    {
     "data": {
      "text/plain": "True"
     },
     "execution_count": 166,
     "metadata": {},
     "output_type": "execute_result"
    }
   ],
   "source": [
    "sub = mod.get_function(\"sub\")\n",
    "\n",
    "a = np.random.randint(0, 1000, N).astype(np.int32)\n",
    "b = np.random.randint(0, 1000, N).astype(np.int32)\n",
    "\n",
    "dev_a = cuda.mem_alloc(a.nbytes)\n",
    "dev_b = cuda.mem_alloc(b.nbytes)\n",
    "dev_c = cuda.mem_alloc(a.nbytes)\n",
    "\n",
    "cuda.memcpy_htod(dev_a, a)\n",
    "cuda.memcpy_htod(dev_b, b)\n",
    "\n",
    "sub(dev_a, dev_b, dev_c, block=BLOCK_SIZE, grid=(grid, 1))\n",
    "c = np.empty(N, dtype=np.int32)\n",
    "cuda.memcpy_dtoh(c, dev_c)\n",
    "(c == np.subtract(a, b)).all()"
   ],
   "metadata": {
    "collapsed": false,
    "ExecuteTime": {
     "end_time": "2023-07-01T05:59:20.393376686Z",
     "start_time": "2023-07-01T05:59:20.390540216Z"
    }
   }
  },
  {
   "cell_type": "code",
   "execution_count": 167,
   "outputs": [
    {
     "data": {
      "text/plain": "True"
     },
     "execution_count": 167,
     "metadata": {},
     "output_type": "execute_result"
    }
   ],
   "source": [
    "scalar_multiply = mod.get_function(\"scalarMultiply\")\n",
    "\n",
    "scalar = 2.5\n",
    "a = np.random.randint(0, 1000, N).astype(np.float32)\n",
    "\n",
    "dev_a = cuda.mem_alloc(a.nbytes)\n",
    "dev_c = cuda.mem_alloc(a.nbytes)\n",
    "\n",
    "cuda.memcpy_htod(dev_a, a)\n",
    "\n",
    "scalar_multiply(dev_a, np.float32(scalar), dev_c, block=BLOCK_SIZE, grid=(grid, 1))\n",
    "c = np.empty(N, dtype=np.float32)\n",
    "cuda.memcpy_dtoh(c, dev_c)\n",
    "(c == a * scalar).all()"
   ],
   "metadata": {
    "collapsed": false,
    "ExecuteTime": {
     "end_time": "2023-07-01T05:59:22.343411697Z",
     "start_time": "2023-07-01T05:59:22.333652600Z"
    }
   }
  },
  {
   "cell_type": "code",
   "execution_count": null,
   "outputs": [],
   "source": [],
   "metadata": {
    "collapsed": false
   }
  }
 ],
 "metadata": {
  "kernelspec": {
   "name": "cuda_sprec",
   "language": "python",
   "display_name": "cuda_sprec"
  },
  "language_info": {
   "codemirror_mode": {
    "name": "ipython",
    "version": 2
   },
   "file_extension": ".py",
   "mimetype": "text/x-python",
   "name": "python",
   "nbconvert_exporter": "python",
   "pygments_lexer": "ipython2",
   "version": "2.7.6"
  }
 },
 "nbformat": 4,
 "nbformat_minor": 0
}
